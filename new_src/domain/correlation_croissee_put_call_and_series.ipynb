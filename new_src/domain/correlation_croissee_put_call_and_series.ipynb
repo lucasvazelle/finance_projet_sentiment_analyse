{
 "cells": [
  {
   "cell_type": "code",
   "execution_count": 11,
   "metadata": {},
   "outputs": [],
   "source": [
    "import os\n",
    "\n",
    "import matplotlib.pyplot as plt\n",
    "from matplotlib.ticker import MaxNLocator\n",
    "import numpy as np\n",
    "import pandas as pd\n",
    "from scipy.stats import pearsonr\n",
    "import statsmodels.api as sm\n",
    "from statsmodels.graphics.tsaplots import plot_acf, plot_pacf\n",
    "from statsmodels.tsa.stattools import adfuller, kpss\n",
    "\n",
    "\n",
    "from correlation_croissee_put_call_and_series import StatisticalTests\n",
    "statisticaltests = StatisticalTests(\"../../new_output/analyse/correlation_croisee_put_cal_and_series\")\n",
    "import inspect\n"
   ]
  },
  {
   "cell_type": "code",
   "execution_count": 12,
   "metadata": {},
   "outputs": [],
   "source": [
    "file_paths = [\n",
    "    \"../../new_data/risk_free_rate_added/BHP_Group_add_risk_free_rate.csv\",\n",
    "    \"../../new_data/risk_free_rate_added/BP_PLC_add_risk_free_rate.csv\",\n",
    "    \"../../new_data/risk_free_rate_added/FMC_Corp_add_risk_free_rate.csv\",\n",
    "    \"../../new_data/risk_free_rate_added/Stora_Enso_add_risk_free_rate.csv\",\n",
    "    \"../../new_data/risk_free_rate_added/Total_Energies_add_risk_free_rate.csv\"\n",
    "]"
   ]
  },
  {
   "cell_type": "code",
   "execution_count": 13,
   "metadata": {},
   "outputs": [
    {
     "data": {
      "text/html": [
       "<div>\n",
       "<style scoped>\n",
       "    .dataframe tbody tr th:only-of-type {\n",
       "        vertical-align: middle;\n",
       "    }\n",
       "\n",
       "    .dataframe tbody tr th {\n",
       "        vertical-align: top;\n",
       "    }\n",
       "\n",
       "    .dataframe thead th {\n",
       "        text-align: right;\n",
       "    }\n",
       "</style>\n",
       "<table border=\"1\" class=\"dataframe\">\n",
       "  <thead>\n",
       "    <tr style=\"text-align: right;\">\n",
       "      <th></th>\n",
       "      <th>Date</th>\n",
       "      <th>Close</th>\n",
       "      <th>Daily Return</th>\n",
       "      <th>Volatility (%)</th>\n",
       "      <th>Put-Call Ratio</th>\n",
       "      <th>Risk-free rate</th>\n",
       "    </tr>\n",
       "  </thead>\n",
       "  <tbody>\n",
       "    <tr>\n",
       "      <th>0</th>\n",
       "      <td>2019-10-07</td>\n",
       "      <td>35.086590</td>\n",
       "      <td>-1.260070</td>\n",
       "      <td>33.683362</td>\n",
       "      <td>1.05</td>\n",
       "      <td>1.673</td>\n",
       "    </tr>\n",
       "    <tr>\n",
       "      <th>1</th>\n",
       "      <td>2019-10-08</td>\n",
       "      <td>34.844360</td>\n",
       "      <td>-0.690376</td>\n",
       "      <td>33.683362</td>\n",
       "      <td>1.01</td>\n",
       "      <td>1.655</td>\n",
       "    </tr>\n",
       "    <tr>\n",
       "      <th>2</th>\n",
       "      <td>2019-10-09</td>\n",
       "      <td>34.895744</td>\n",
       "      <td>0.147467</td>\n",
       "      <td>33.683362</td>\n",
       "      <td>1.03</td>\n",
       "      <td>1.628</td>\n",
       "    </tr>\n",
       "    <tr>\n",
       "      <th>3</th>\n",
       "      <td>2019-10-10</td>\n",
       "      <td>35.504990</td>\n",
       "      <td>1.745901</td>\n",
       "      <td>33.683362</td>\n",
       "      <td>0.99</td>\n",
       "      <td>1.633</td>\n",
       "    </tr>\n",
       "    <tr>\n",
       "      <th>4</th>\n",
       "      <td>2019-10-11</td>\n",
       "      <td>36.415188</td>\n",
       "      <td>2.563578</td>\n",
       "      <td>33.683362</td>\n",
       "      <td>0.94</td>\n",
       "      <td>1.623</td>\n",
       "    </tr>\n",
       "  </tbody>\n",
       "</table>\n",
       "</div>"
      ],
      "text/plain": [
       "         Date      Close  Daily Return  Volatility (%)  Put-Call Ratio  \\\n",
       "0  2019-10-07  35.086590     -1.260070       33.683362            1.05   \n",
       "1  2019-10-08  34.844360     -0.690376       33.683362            1.01   \n",
       "2  2019-10-09  34.895744      0.147467       33.683362            1.03   \n",
       "3  2019-10-10  35.504990      1.745901       33.683362            0.99   \n",
       "4  2019-10-11  36.415188      2.563578       33.683362            0.94   \n",
       "\n",
       "   Risk-free rate  \n",
       "0           1.673  \n",
       "1           1.655  \n",
       "2           1.628  \n",
       "3           1.633  \n",
       "4           1.623  "
      ]
     },
     "execution_count": 13,
     "metadata": {},
     "output_type": "execute_result"
    }
   ],
   "source": [
    "pd.read_csv(file_paths[0]).head(5)"
   ]
  },
  {
   "cell_type": "code",
   "execution_count": 18,
   "metadata": {},
   "outputs": [],
   "source": [
    "BHP_GROUP = pd.read_csv(file_paths[0])\n",
    "BHP_GROUP = BHP_GROUP.rename(columns={\"Daily Return\": \"Daily Return BHP\", \"Close\": \"Stock Price BHP\"})\n",
    "\n",
    "BP_PCL = pd.read_csv(file_paths[1])\n",
    "BP_PCL = BP_PCL.rename(columns={\"Daily Return\": \"Daily Return BHP\", \"Close\": \"Stock Price BP_PCL\"})\n",
    "\n",
    "FMC_Corp = pd.read_csv(file_paths[2])\n",
    "FMC_Corp = FMC_Corp.rename(columns={\"Daily Return\": \"Daily Return FMC_Corp\", \"Close\": \"Stock Price FMC_Corp\"})\n",
    "\n",
    "Stora_Enso = pd.read_csv(file_paths[3])\n",
    "Stora_Enso = Stora_Enso.rename(columns={\"Daily Return\": \"Daily Return Stora_Enso\", \"Close\": \"Stock Price Stora_Enso\"})\n",
    "\n",
    "Total_Energies = pd.read_csv(file_paths[4])\n",
    "Total_Energies = Total_Energies.rename(columns={\"Daily Return\": \"Daily Return BHP\", \"Close\": \"Stock Price Total_Energies\"})"
   ]
  },
  {
   "cell_type": "code",
   "execution_count": 28,
   "metadata": {},
   "outputs": [],
   "source": [
    "lag_ranges = [30, 60, 90]\n",
    "\n",
    "action_name = Total_Energies\n",
    "\n",
    "for lag_range in lag_ranges:\n",
    "    statisticaltests.plot_ccf(\n",
    "        action_name.iloc[:, 2],  # Supposons que c'est la colonne souhaitée\n",
    "        action_name[\"Put-Call Ratio\"],  # Colonne cible\n",
    "        lag_range,\n",
    "        filename=f\"_ccf_plot_Put_Call_Ratio_and_Stock_Daily Return_Total_Energies_range_{lag_range}\"\n",
    "    )"
   ]
  }
 ],
 "metadata": {
  "kernelspec": {
   "display_name": "Python 3",
   "language": "python",
   "name": "python3"
  },
  "language_info": {
   "codemirror_mode": {
    "name": "ipython",
    "version": 3
   },
   "file_extension": ".py",
   "mimetype": "text/x-python",
   "name": "python",
   "nbconvert_exporter": "python",
   "pygments_lexer": "ipython3",
   "version": "3.11.0"
  }
 },
 "nbformat": 4,
 "nbformat_minor": 2
}
